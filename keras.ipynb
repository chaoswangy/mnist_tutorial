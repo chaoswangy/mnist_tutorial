{
 "cells": [
  {
   "cell_type": "markdown",
   "metadata": {},
   "source": [
    "# Keras Tutorial"
   ]
  },
  {
   "cell_type": "markdown",
   "metadata": {},
   "source": [
    "Keras is a popular deep learning framework and it's easy to get started."
   ]
  },
  {
   "cell_type": "markdown",
   "metadata": {},
   "source": [
    "First, we read the mnist data and preprocess them."
   ]
  },
  {
   "cell_type": "code",
   "execution_count": 1,
   "metadata": {},
   "outputs": [
    {
     "name": "stderr",
     "output_type": "stream",
     "text": [
      "Using TensorFlow backend.\n"
     ]
    }
   ],
   "source": [
    "import keras\n",
    "from keras.datasets import mnist\n",
    "from keras.models import Sequential\n",
    "from keras.layers import Dense, Dropout, Flatten, Conv2D, MaxPooling2D\n",
    "\n",
    "BATCH_SIZE = 128\n",
    "NUM_CLASSES = 10\n",
    "NUM_EPOCHS = 10"
   ]
  },
  {
   "cell_type": "code",
   "execution_count": 2,
   "metadata": {},
   "outputs": [],
   "source": [
    "# download and load the data (split them between train and test sets)\n",
    "(x_train, y_train), (x_test, y_test) = mnist.load_data()\n",
    "\n",
    "# expand the channel dimension\n",
    "x_train = x_train.reshape(x_train.shape[0], 28, 28, 1)\n",
    "x_test = x_test.reshape(x_test.shape[0], 28, 28, 1)\n",
    "input_shape = (28, 28, 1)\n",
    "\n",
    "# make the value of pixels from [0, 255] to [0, 1] for further process\n",
    "x_train = x_train.astype('float32') / 255.\n",
    "x_test = x_test.astype('float32') / 255.\n",
    "\n",
    "# convert class vectors to binary class matrics\n",
    "y_train = keras.utils.to_categorical(y_train, NUM_CLASSES)\n",
    "y_test = keras.utils.to_categorical(y_test, NUM_CLASSES)"
   ]
  },
  {
   "cell_type": "markdown",
   "metadata": {},
   "source": [
    "Then, we define the model, object function and optimizer that we use to classify."
   ]
  },
  {
   "cell_type": "code",
   "execution_count": 3,
   "metadata": {},
   "outputs": [],
   "source": [
    "# define the model\n",
    "model = Sequential()\n",
    "model.add(Conv2D(filters=32, kernel_size=3, input_shape=input_shape, activation='relu'))\n",
    "model.add(MaxPooling2D(pool_size=(2, 2)))\n",
    "model.add(Dropout(0.2))\n",
    "model.add(Flatten())\n",
    "model.add(Dense(128, activation='relu'))\n",
    "model.add(Dense(NUM_CLASSES, activation='softmax'))\n",
    "# define the object function, optimizer and metrics\n",
    "model.compile(loss='categorical_crossentropy', optimizer='adam', metrics=['accuracy'])"
   ]
  },
  {
   "cell_type": "markdown",
   "metadata": {},
   "source": [
    "Next, we can start to train and evaluate!"
   ]
  },
  {
   "cell_type": "code",
   "execution_count": 4,
   "metadata": {},
   "outputs": [
    {
     "name": "stdout",
     "output_type": "stream",
     "text": [
      "Epoch 1/10\n",
      "60000/60000 [==============================] - 15s 257us/step - loss: 0.2233 - accuracy: 0.9348\n",
      "Epoch 2/10\n",
      "60000/60000 [==============================] - 15s 253us/step - loss: 0.0730 - accuracy: 0.9779\n",
      "Epoch 3/10\n",
      "60000/60000 [==============================] - 15s 252us/step - loss: 0.0515 - accuracy: 0.9849\n",
      "Epoch 4/10\n",
      "60000/60000 [==============================] - 15s 254us/step - loss: 0.0403 - accuracy: 0.9877\n",
      "Epoch 5/10\n",
      "60000/60000 [==============================] - 16s 259us/step - loss: 0.0318 - accuracy: 0.9900\n",
      "Epoch 6/10\n",
      "60000/60000 [==============================] - 15s 254us/step - loss: 0.0254 - accuracy: 0.9922\n",
      "Epoch 7/10\n",
      "60000/60000 [==============================] - 16s 259us/step - loss: 0.0203 - accuracy: 0.9937\n",
      "Epoch 8/10\n",
      "60000/60000 [==============================] - 15s 258us/step - loss: 0.0170 - accuracy: 0.9950\n",
      "Epoch 9/10\n",
      "60000/60000 [==============================] - 15s 255us/step - loss: 0.0155 - accuracy: 0.9951\n",
      "Epoch 10/10\n",
      "60000/60000 [==============================] - 15s 255us/step - loss: 0.0113 - accuracy: 0.9965\n",
      "60000/60000 [==============================] - 5s 81us/step\n",
      "Training loss: 0.0064, Training accuracy: 99.84%\n",
      "10000/10000 [==============================] - 1s 81us/step\n",
      "Testing loss: 0.0426, Testing accuracy: 98.65%\n"
     ]
    }
   ],
   "source": [
    "# train\n",
    "model.fit(x_train, y_train, epochs=NUM_EPOCHS, batch_size=BATCH_SIZE)\n",
    "\n",
    "# evaluate\n",
    "Training_loss,Training_accuracy = model.evaluate(x_train, y_train)\n",
    "print('Training loss: %.4f, Training accuracy: %.2f%%' % (Training_loss,Training_accuracy*100))\n",
    "Testing_loss,Testing_accuracy = model.evaluate(x_test, y_test)\n",
    "print('Testing loss: %.4f, Testing accuracy: %.2f%%' % (Testing_loss,Testing_accuracy*100))"
   ]
  },
  {
   "cell_type": "markdown",
   "metadata": {},
   "source": [
    "#### Q6:\n",
    "Please print the training and testing accuracy."
   ]
  }
 ],
 "metadata": {
  "kernelspec": {
   "display_name": "Python 3",
   "language": "python",
   "name": "python3"
  },
  "language_info": {
   "codemirror_mode": {
    "name": "ipython",
    "version": 3
   },
   "file_extension": ".py",
   "mimetype": "text/x-python",
   "name": "python",
   "nbconvert_exporter": "python",
   "pygments_lexer": "ipython3",
   "version": "3.7.4"
  }
 },
 "nbformat": 4,
 "nbformat_minor": 2
}
